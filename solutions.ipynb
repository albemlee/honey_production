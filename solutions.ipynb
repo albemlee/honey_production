{
 "cells": [
  {
   "cell_type": "markdown",
   "metadata": {},
   "source": [
    "# Load Required Libraries"
   ]
  },
  {
   "cell_type": "code",
   "execution_count": 1,
   "metadata": {},
   "outputs": [],
   "source": [
    "import pandas as pd\n",
    "import matplotlib.pyplot as plt\n",
    "import numpy as np\n",
    "from sklearn.linear_model import LinearRegression"
   ]
  },
  {
   "cell_type": "markdown",
   "metadata": {},
   "source": [
    "# Load Data\n",
    "We read the data from a csv file into a Pandas DataFrame."
   ]
  },
  {
   "cell_type": "code",
   "execution_count": 2,
   "metadata": {},
   "outputs": [
    {
     "data": {
      "text/html": [
       "<div>\n",
       "<style scoped>\n",
       "    .dataframe tbody tr th:only-of-type {\n",
       "        vertical-align: middle;\n",
       "    }\n",
       "\n",
       "    .dataframe tbody tr th {\n",
       "        vertical-align: top;\n",
       "    }\n",
       "\n",
       "    .dataframe thead th {\n",
       "        text-align: right;\n",
       "    }\n",
       "</style>\n",
       "<table border=\"1\" class=\"dataframe\">\n",
       "  <thead>\n",
       "    <tr style=\"text-align: right;\">\n",
       "      <th></th>\n",
       "      <th>state</th>\n",
       "      <th>numcol</th>\n",
       "      <th>yieldpercol</th>\n",
       "      <th>totalprod</th>\n",
       "      <th>stocks</th>\n",
       "      <th>priceperlb</th>\n",
       "      <th>prodvalue</th>\n",
       "      <th>year</th>\n",
       "    </tr>\n",
       "  </thead>\n",
       "  <tbody>\n",
       "    <tr>\n",
       "      <th>0</th>\n",
       "      <td>AL</td>\n",
       "      <td>16000.0</td>\n",
       "      <td>71</td>\n",
       "      <td>1136000.0</td>\n",
       "      <td>159000.0</td>\n",
       "      <td>0.72</td>\n",
       "      <td>818000.0</td>\n",
       "      <td>1998</td>\n",
       "    </tr>\n",
       "    <tr>\n",
       "      <th>1</th>\n",
       "      <td>AZ</td>\n",
       "      <td>55000.0</td>\n",
       "      <td>60</td>\n",
       "      <td>3300000.0</td>\n",
       "      <td>1485000.0</td>\n",
       "      <td>0.64</td>\n",
       "      <td>2112000.0</td>\n",
       "      <td>1998</td>\n",
       "    </tr>\n",
       "    <tr>\n",
       "      <th>2</th>\n",
       "      <td>AR</td>\n",
       "      <td>53000.0</td>\n",
       "      <td>65</td>\n",
       "      <td>3445000.0</td>\n",
       "      <td>1688000.0</td>\n",
       "      <td>0.59</td>\n",
       "      <td>2033000.0</td>\n",
       "      <td>1998</td>\n",
       "    </tr>\n",
       "    <tr>\n",
       "      <th>3</th>\n",
       "      <td>CA</td>\n",
       "      <td>450000.0</td>\n",
       "      <td>83</td>\n",
       "      <td>37350000.0</td>\n",
       "      <td>12326000.0</td>\n",
       "      <td>0.62</td>\n",
       "      <td>23157000.0</td>\n",
       "      <td>1998</td>\n",
       "    </tr>\n",
       "    <tr>\n",
       "      <th>4</th>\n",
       "      <td>CO</td>\n",
       "      <td>27000.0</td>\n",
       "      <td>72</td>\n",
       "      <td>1944000.0</td>\n",
       "      <td>1594000.0</td>\n",
       "      <td>0.70</td>\n",
       "      <td>1361000.0</td>\n",
       "      <td>1998</td>\n",
       "    </tr>\n",
       "  </tbody>\n",
       "</table>\n",
       "</div>"
      ],
      "text/plain": [
       "  state    numcol  yieldpercol   totalprod      stocks  priceperlb  \\\n",
       "0    AL   16000.0           71   1136000.0    159000.0        0.72   \n",
       "1    AZ   55000.0           60   3300000.0   1485000.0        0.64   \n",
       "2    AR   53000.0           65   3445000.0   1688000.0        0.59   \n",
       "3    CA  450000.0           83  37350000.0  12326000.0        0.62   \n",
       "4    CO   27000.0           72   1944000.0   1594000.0        0.70   \n",
       "\n",
       "    prodvalue  year  \n",
       "0    818000.0  1998  \n",
       "1   2112000.0  1998  \n",
       "2   2033000.0  1998  \n",
       "3  23157000.0  1998  \n",
       "4   1361000.0  1998  "
      ]
     },
     "execution_count": 2,
     "metadata": {},
     "output_type": "execute_result"
    }
   ],
   "source": [
    "df = pd.read_csv(\"https://s3.amazonaws.com/codecademy-content/programs/data-science-path/linear_regression/honeyproduction.csv\")\n",
    "df.head()"
   ]
  },
  {
   "cell_type": "markdown",
   "metadata": {},
   "source": [
    "# Preprocess Data\n",
    "For now, we care about the total production of honey per year. We use the .groupby() method provided by pandas to get the mean of totalprod per year.\n",
    "\n",
    "We create a variable called X that is the column of years in this prod_per_year DataFrame. We create a variable called y that is the totalprod column in the prod_per_year dataset. Then, we plotted X and y in a scatterplot. Notice that the points are trending downward."
   ]
  },
  {
   "cell_type": "code",
   "execution_count": 3,
   "metadata": {},
   "outputs": [
    {
     "data": {
      "image/png": "[encoded data removed]",
      "text/plain": [
       "<Figure size 432x288 with 1 Axes>"
      ]
     },
     "metadata": {},
     "output_type": "display_data"
    }
   ],
   "source": [
    "prod_per_year = df.groupby('year').agg(np.mean)['totalprod']\n",
    "\n",
    "X = prod_per_year.index\n",
    "X = X.values.reshape(-1, 1)\n",
    "\n",
    "y = prod_per_year.values\n",
    "y = y.reshape(-1,1)\n",
    "\n",
    "plt.scatter(X, y)\n",
    "plt.show()"
   ]
  },
  {
   "cell_type": "markdown",
   "metadata": {},
   "source": [
    "# Create and Train a Linear Regression Model\n",
    "We create a linear regression model from scikit-learn called regr. Then we fit the model using X and y. Since we only included one feature (year) within X, there will only be one coefficient in our linear model."
   ]
  },
  {
   "cell_type": "code",
   "execution_count": 4,
   "metadata": {},
   "outputs": [
    {
     "name": "stdout",
     "output_type": "stream",
     "text": [
      "Model Coefficient: [[-88303.18915238]]\n",
      "Model Intercept: [1.81208083e+08]\n"
     ]
    }
   ],
   "source": [
    "regr = LinearRegression()\n",
    "regr.fit(X, y)\n",
    "print('Model Coefficient:', regr.coef_)\n",
    "print('Model Intercept:', regr.intercept_)"
   ]
  },
  {
   "cell_type": "markdown",
   "metadata": {},
   "source": [
    "We create a list called y_predict that is the predictions your regr model would make on the X data. Notice that the predictions fall onto a straight line because we are using a linear model."
   ]
  },
  {
   "cell_type": "code",
   "execution_count": 5,
   "metadata": {},
   "outputs": [
    {
     "data": {
      "image/png": "[encoded data removed]",
      "text/plain": [
       "<Figure size 432x288 with 1 Axes>"
      ]
     },
     "metadata": {},
     "output_type": "display_data"
    }
   ],
   "source": [
    "y_predict = regr.predict(X)\n",
    "plt.scatter(X, y_predict)\n",
    "plt.show()"
   ]
  },
  {
   "cell_type": "markdown",
   "metadata": {},
   "source": [
    "# Generate Predictions\n",
    "We used our model to predict honey output from 2013 to 2050."
   ]
  },
  {
   "cell_type": "code",
   "execution_count": 6,
   "metadata": {},
   "outputs": [
    {
     "data": {
      "text/plain": [
       "<matplotlib.collections.PathCollection at 0x1a23a4f748>"
      ]
     },
     "execution_count": 6,
     "metadata": {},
     "output_type": "execute_result"
    },
    {
     "data": {
      "image/png": "[encoded data removed]",
      "text/plain": [
       "<Figure size 432x288 with 1 Axes>"
      ]
     },
     "metadata": {},
     "output_type": "display_data"
    }
   ],
   "source": [
    "X_future = np.arange(2013, 2051)\n",
    "X_future = X_future.reshape(-1, 1)\n",
    "future_predict = regr.predict(X_future)\n",
    "\n",
    "plt.scatter(X_future, future_predict)"
   ]
  }
 ],
 "metadata": {
  "kernelspec": {
   "display_name": "Python 3",
   "language": "python",
   "name": "python3"
  },
  "language_info": {
   "codemirror_mode": {
    "name": "ipython",
    "version": 3
   },
   "file_extension": ".py",
   "mimetype": "text/x-python",
   "name": "python",
   "nbconvert_exporter": "python",
   "pygments_lexer": "ipython3",
   "version": "3.6.5"
  }
 },
 "nbformat": 4,
 "nbformat_minor": 2
}
